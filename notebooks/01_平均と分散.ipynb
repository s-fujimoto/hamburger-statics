{
 "cells": [
  {
   "cell_type": "markdown",
   "metadata": {
    "pycharm": {}
   },
   "source": [
    "# 1.1 ポテトの長さの平均は"
   ]
  },
  {
   "cell_type": "code",
   "execution_count": 2,
   "metadata": {
    "pycharm": {}
   },
   "outputs": [],
   "source": [
    "import numpy\n"
   ]
  },
  {
   "cell_type": "code",
   "execution_count": 3,
   "metadata": {
    "pycharm": {}
   },
   "outputs": [],
   "source": [
    "wakuwaku_data = [3.5,3.8,5.8,6.4,4.2,4.2,4.0,3.6,3.8,5.2,4.9,5.2,6.0,3.9,5.3,4.6,3.9,4.2,4.2,6.4,2.8,5.6,5.7,5.1,4.4,5.6,5.3,3.9,5.1,3.6,4.2,5.0,4.7,4.1,3.7,4.9,4.7,5.3,3.6,4.2,4.4,4.0,5.5,4.2,4.8,3.7,3.1,4.7,5.0]\n"
   ]
  },
  {
   "cell_type": "code",
   "execution_count": 4,
   "metadata": {
    "pycharm": {}
   },
   "outputs": [],
   "source": [
    "wakuwaku_potates=numpy.array(wakuwaku_data)"
   ]
  },
  {
   "cell_type": "code",
   "execution_count": 5,
   "metadata": {
    "pycharm": {}
   },
   "outputs": [
    {
     "name": "stdout",
     "output_type": "stream",
     "text": [
      "長さの合計値 : 224.0\n",
      "長さの平均値 : 4.571428571428571\n"
     ]
    }
   ],
   "source": [
    "print(\"長さの合計値 : {}\".format(wakuwaku_potates.sum()))\n",
    "print(\"長さの平均値 : {}\".format(wakuwaku_potates.mean()))\n"
   ]
  },
  {
   "cell_type": "code",
   "execution_count": 6,
   "metadata": {
    "pycharm": {}
   },
   "outputs": [],
   "source": [
    "mogumogu_data=[4.5,3.8,5.8,5.4,6.4,4.2,3.0,4.6,5.8,5.2,3.9,3.2,4.0,5.9,3.3,6.6,4.9,2.2,3.2,6.4,0.8,7.6,7.7,5.1,6.4,5.6,3.3,3.9,3.1,2.6,3.2,7.0,6.7,6.1,2.6,6.9,3.7,3.3,4.6,5.2,4.4,3.0,7.5,2.2,5.8,4.7,4.1,2.7,4.0]\n",
    "mogumogu_potates=numpy.array(mogumogu_data)"
   ]
  },
  {
   "cell_type": "code",
   "execution_count": 7,
   "metadata": {
    "pycharm": {}
   },
   "outputs": [
    {
     "name": "stdout",
     "output_type": "stream",
     "text": [
      "長さの合計値 : 226.10000000000002\n",
      "長さの平均値 : 4.614285714285715\n"
     ]
    }
   ],
   "source": [
    "print(\"長さの合計値 : {}\".format(mogumogu_potates.sum()))\n",
    "print(\"長さの平均値 : {}\".format(mogumogu_potates.mean()))"
   ]
  },
  {
   "cell_type": "markdown",
   "metadata": {
    "pycharm": {}
   },
   "source": [
    "# 1.2 度数分布"
   ]
  },
  {
   "cell_type": "code",
   "execution_count": 8,
   "metadata": {
    "pycharm": {}
   },
   "outputs": [],
   "source": [
    "%matplotlib inline\n",
    "import numpy\n",
    "import matplotlib.pyplot as plt\n"
   ]
  },
  {
   "cell_type": "code",
   "execution_count": 15,
   "metadata": {
    "pycharm": {}
   },
   "outputs": [
    {
     "data": {
      "text/plain": [
       "(array([ 0.,  0.,  1., 12., 19., 14.,  3.,  0.]),\n",
       " array([0, 1, 2, 3, 4, 5, 6, 7, 8]),\n",
       " <a list of 8 Patch objects>)"
      ]
     },
     "execution_count": 15,
     "metadata": {},
     "output_type": "execute_result"
    },
    {
     "data": {
      "image/png": "[encoded data removed]",
      "text/plain": [
       "<Figure size 432x288 with 1 Axes>"
      ]
     },
     "metadata": {
      "needs_background": "light"
     },
     "output_type": "display_data"
    }
   ],
   "source": [
    "plt.hist(wakuwaku_potates, bins=[0,1,2,3,4,5,6,7,8])\n"
   ]
  },
  {
   "cell_type": "code",
   "execution_count": 16,
   "metadata": {
    "pycharm": {
     "name": "#%%\n"
    }
   },
   "outputs": [
    {
     "data": {
      "text/plain": [
       "(array([ 1.,  0.,  5., 13., 10.,  9.,  7.,  4.]),\n",
       " array([0, 1, 2, 3, 4, 5, 6, 7, 8]),\n",
       " <a list of 8 Patch objects>)"
      ]
     },
     "execution_count": 16,
     "metadata": {},
     "output_type": "execute_result"
    },
    {
     "data": {
      "image/png": "[encoded data removed]",
      "text/plain": [
       "<Figure size 432x288 with 1 Axes>"
      ]
     },
     "metadata": {
      "needs_background": "light"
     },
     "output_type": "display_data"
    }
   ],
   "source": [
    "plt.hist(mogumogu_potates, bins=[0,1,2,3,4,5,6,7,8])\n"
   ]
  },
  {
   "cell_type": "markdown",
   "metadata": {},
   "source": [
    "# 1.3　ばらつきを数字にする"
   ]
  },
  {
   "cell_type": "code",
   "execution_count": 18,
   "metadata": {},
   "outputs": [
    {
     "name": "stdout",
     "output_type": "stream",
     "text": [
      "わくわく\n",
      "　分散　　 : 0.6808163265306122\n",
      "　標準偏差 : 0.8251159473253514\n",
      "もぐもぐ\n",
      "　分散　　 : 2.5848979591836736\n",
      "　標準偏差 : 1.6077617855838202\n"
     ]
    }
   ],
   "source": [
    "wakuwaku_bunsan = wakuwaku_potates.var()\n",
    "wakuwaku_hyojun = wakuwaku_potates.std()\n",
    "print(\"わくわく\\n　分散　　 : {}\\n　標準偏差 : {}\".format(wakuwaku_bunsan, wakuwaku_hyojun))\n",
    "\n",
    "mogumogu_bunsan = mogumogu_potates.var()\n",
    "mogumogu_hyojun = mogumogu_potates.std()\n",
    "print(\"もぐもぐ\\n　分散　　 : {}\\n　標準偏差 : {}\".format(mogumogu_bunsan, mogumogu_hyojun))\n"
   ]
  },
  {
   "cell_type": "markdown",
   "metadata": {},
   "source": [
    "# 1.5　実践編：チキンでいこう"
   ]
  },
  {
   "cell_type": "code",
   "execution_count": 21,
   "metadata": {},
   "outputs": [],
   "source": [
    "wakuwaku_chickens=numpy.array([135,142,149,146,149,144,137,138,156,153,150,147,136,160,142,157])\n",
    "mogumogu_chickens=numpy.array([144,143,139,166,169,144,147,138,176,133,170,137,146,140,122,177])"
   ]
  },
  {
   "cell_type": "code",
   "execution_count": 24,
   "metadata": {},
   "outputs": [
    {
     "name": "stdout",
     "output_type": "stream",
     "text": [
      "わくわくチキン\n",
      "　合計 : 2341\n",
      "　平均 : 146.3125\n",
      "　分散 : 56.33984375\n",
      "　標準偏差 : 7.505987193567545\n"
     ]
    }
   ],
   "source": [
    "print(\"わくわくチキン\\n　合計 : {}\\n　平均 : {}\\n　分散 : {}\\n　標準偏差 : {}\".format(\n",
    "    wakuwaku_chickens.sum(),\n",
    "    wakuwaku_chickens.mean(),\n",
    "    wakuwaku_chickens.var(),\n",
    "    wakuwaku_chickens.std(),))"
   ]
  },
  {
   "cell_type": "code",
   "execution_count": 25,
   "metadata": {},
   "outputs": [
    {
     "name": "stdout",
     "output_type": "stream",
     "text": [
      "もぐもぐチキン\n",
      "　合計 : 2391\n",
      "　平均 : 149.4375\n",
      "　分散 : 260.62109375\n",
      "　標準偏差 : 16.14376330816331\n"
     ]
    }
   ],
   "source": [
    "print(\"もぐもぐチキン\\n　合計 : {}\\n　平均 : {}\\n　分散 : {}\\n　標準偏差 : {}\".format(\n",
    "    mogumogu_chickens.sum(),\n",
    "    mogumogu_chickens.mean(),\n",
    "    mogumogu_chickens.var(),\n",
    "    mogumogu_chickens.std(),))"
   ]
  },
  {
   "cell_type": "markdown",
   "metadata": {},
   "source": [
    "# 1.9　通過テスト"
   ]
  },
  {
   "cell_type": "code",
   "execution_count": 27,
   "metadata": {},
   "outputs": [],
   "source": [
    "s_pts=numpy.array([78,62,81,59,72,68,75,65,80,60,78,62,70])\n",
    "m_pts=numpy.array([70,72,68,75,65,71,69,76,64,80,60,73,67])\n",
    "y_pts=numpy.array([57,59,55,62,52,58,56,63,51,67,47,60,54])"
   ]
  },
  {
   "cell_type": "code",
   "execution_count": 28,
   "metadata": {},
   "outputs": [
    {
     "name": "stdout",
     "output_type": "stream",
     "text": [
      "桜\n",
      "　平均 : 70.0, 分散 : 58.15384615384615, 標準偏差 : 7.62586691162691\n",
      "桃\n",
      "　平均 : 70.0, 分散 : 26.923076923076923, 標準偏差 : 5.188745216627709\n",
      "柳\n",
      "　平均 : 57.0, 分散 : 26.923076923076923, 標準偏差 : 5.188745216627709\n"
     ]
    }
   ],
   "source": [
    "print(\"桜\\n　平均 : {}, 分散 : {}, 標準偏差 : {}\".format(\n",
    "    s_pts.mean(),\n",
    "    s_pts.var(),\n",
    "    s_pts.std(),))\n",
    "print(\"桃\\n　平均 : {}, 分散 : {}, 標準偏差 : {}\".format(\n",
    "    m_pts.mean(),\n",
    "    m_pts.var(),\n",
    "    m_pts.std(),))\n",
    "print(\"柳\\n　平均 : {}, 分散 : {}, 標準偏差 : {}\".format(\n",
    "    y_pts.mean(),\n",
    "    y_pts.var(),\n",
    "    y_pts.std(),))\n"
   ]
  },
  {
   "cell_type": "code",
   "execution_count": 35,
   "metadata": {},
   "outputs": [
    {
     "data": {
      "text/plain": [
       "(array([0., 0., 0., 0., 1., 8., 4., 0., 0., 0.]),\n",
       " array([  0,  10,  20,  30,  40,  50,  60,  70,  80,  90, 100]),\n",
       " <a list of 10 Patch objects>)"
      ]
     },
     "execution_count": 35,
     "metadata": {},
     "output_type": "execute_result"
    },
    {
     "data": {
      "image/png": "[encoded data removed]",
      "text/plain": [
       "<Figure size 1296x288 with 3 Axes>"
      ]
     },
     "metadata": {
      "needs_background": "light"
     },
     "output_type": "display_data"
    }
   ],
   "source": [
    "fig, (s_hist, m_hist, y_hist) = plt.subplots(ncols=3, figsize=(18,4))\n",
    "s_hist.hist(s_pts, bins=[0,10,20,30,40,50,60,70,80,90,100])\n",
    "m_hist.hist(m_pts, bins=[0,10,20,30,40,50,60,70,80,90,100])\n",
    "y_hist.hist(y_pts, bins=[0,10,20,30,40,50,60,70,80,90,100])\n"
   ]
  },
  {
   "cell_type": "code",
   "execution_count": null,
   "metadata": {},
   "outputs": [],
   "source": []
  }
 ],
 "metadata": {
  "kernelspec": {
   "display_name": "Python 3",
   "language": "python",
   "name": "python3"
  },
  "language_info": {
   "codemirror_mode": {
    "name": "ipython",
    "version": 3
   },
   "file_extension": ".py",
   "mimetype": "text/x-python",
   "name": "python",
   "nbconvert_exporter": "python",
   "pygments_lexer": "ipython3",
   "version": "3.7.3"
  }
 },
 "nbformat": 4,
 "nbformat_minor": 2
}
