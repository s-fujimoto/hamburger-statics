{
 "cells": [
  {
   "cell_type": "markdown",
   "metadata": {},
   "source": [
    "# 2.1　平均的ポテトを推定する"
   ]
  },
  {
   "cell_type": "code",
   "execution_count": 1,
   "metadata": {},
   "outputs": [],
   "source": [
    "import numpy"
   ]
  },
  {
   "cell_type": "code",
   "execution_count": 2,
   "metadata": {},
   "outputs": [],
   "source": [
    "wp_num=numpy.array([47,51,49,50,49,46,51,48,52,49])"
   ]
  },
  {
   "cell_type": "code",
   "execution_count": 6,
   "metadata": {},
   "outputs": [
    {
     "name": "stdout",
     "output_type": "stream",
     "text": [
      "わくわくポテトの数\n",
      "　平均 : 49.2, 分散 : 3.1599999999999997, 標準偏差 : 1.7776388834631176\n"
     ]
    }
   ],
   "source": [
    "print(\"わくわくポテトの数\\n　平均 : {}, 分散 : {}, 標準偏差 : {}\".format(\n",
    "    wp_num.mean(),\n",
    "    wp_num.var(),\n",
    "    wp_num.std(),))\n"
   ]
  },
  {
   "cell_type": "markdown",
   "metadata": {},
   "source": [
    "# 2.2　母集団の平均と分散を推定する"
   ]
  },
  {
   "cell_type": "code",
   "execution_count": 7,
   "metadata": {},
   "outputs": [
    {
     "name": "stdout",
     "output_type": "stream",
     "text": [
      "わくわくポテトの数\n",
      "　平均 : 49.2, 分散 : 3.1599999999999997, 不偏分散 : 3.511111111111111, 標準偏差 : 1.7776388834631176\n"
     ]
    }
   ],
   "source": [
    "print(\"わくわくポテトの数\\n　平均 : {}, 分散 : {}, 不偏分散 : {}, 標準偏差 : {}\".format(\n",
    "    wp_num.mean(),\n",
    "    wp_num.var(),\n",
    "    wp_num.var(ddof=1),\n",
    "    wp_num.std(),))\n"
   ]
  },
  {
   "cell_type": "markdown",
   "metadata": {},
   "source": [
    "# 2.3　区間推定／信頼区間"
   ]
  },
  {
   "cell_type": "code",
   "execution_count": null,
   "metadata": {},
   "outputs": [],
   "source": []
  },
  {
   "cell_type": "code",
   "execution_count": null,
   "metadata": {},
   "outputs": [],
   "source": []
  }
 ],
 "metadata": {
  "kernelspec": {
   "display_name": "Python 3",
   "language": "python",
   "name": "python3"
  },
  "language_info": {
   "codemirror_mode": {
    "name": "ipython",
    "version": 3
   },
   "file_extension": ".py",
   "mimetype": "text/x-python",
   "name": "python",
   "nbconvert_exporter": "python",
   "pygments_lexer": "ipython3",
   "version": "3.7.3"
  }
 },
 "nbformat": 4,
 "nbformat_minor": 2
}
